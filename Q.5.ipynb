{
 "cells": [
  {
   "cell_type": "code",
   "execution_count": null,
   "id": "734fc2fd-2474-48b9-86c7-f4010bb01f1b",
   "metadata": {},
   "outputs": [],
   "source": [
    "\"\"\"\n",
    "Q.5 What is method overriding in python? Write a python code to demonstrate method overriding.\n",
    "\n",
    "Ans. Method overriding in Python means that a child class can change or replace the behavior of \n",
    "     a method that it inherited from its parent class.\n",
    "\"\"\"\n"
   ]
  },
  {
   "cell_type": "code",
   "execution_count": 1,
   "id": "eff3a8d8-100b-4215-86ac-160983f7d44f",
   "metadata": {},
   "outputs": [],
   "source": [
    "class animal:\n",
    "    def sound(self):\n",
    "         print(\"Generic animal sound\")\n",
    "class dog(animal):\n",
    "    def skin(self):\n",
    "        print(\"Skin is very black\")"
   ]
  },
  {
   "cell_type": "code",
   "execution_count": 2,
   "id": "d33934ba-5a68-4078-9f89-1d8a817cc700",
   "metadata": {},
   "outputs": [],
   "source": [
    "# creat object\n",
    "result=dog()"
   ]
  },
  {
   "cell_type": "code",
   "execution_count": 4,
   "id": "17859982-8bd6-4618-b74b-cfe73e31df63",
   "metadata": {},
   "outputs": [
    {
     "name": "stdout",
     "output_type": "stream",
     "text": [
      "Skinn is very black\n"
     ]
    }
   ],
   "source": [
    "result.skin()"
   ]
  },
  {
   "cell_type": "code",
   "execution_count": 5,
   "id": "80dba3d2-f2d4-4582-8b83-df6c5310d966",
   "metadata": {},
   "outputs": [
    {
     "name": "stdout",
     "output_type": "stream",
     "text": [
      "Generic animal sound\n"
     ]
    }
   ],
   "source": [
    "result.sound()"
   ]
  },
  {
   "cell_type": "code",
   "execution_count": null,
   "id": "26725707-a614-4440-8d76-e567502541cd",
   "metadata": {},
   "outputs": [],
   "source": []
  }
 ],
 "metadata": {
  "kernelspec": {
   "display_name": "Python 3 (ipykernel)",
   "language": "python",
   "name": "python3"
  },
  "language_info": {
   "codemirror_mode": {
    "name": "ipython",
    "version": 3
   },
   "file_extension": ".py",
   "mimetype": "text/x-python",
   "name": "python",
   "nbconvert_exporter": "python",
   "pygments_lexer": "ipython3",
   "version": "3.10.8"
  }
 },
 "nbformat": 4,
 "nbformat_minor": 5
}
