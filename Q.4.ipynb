{
 "cells": [
  {
   "cell_type": "code",
   "execution_count": null,
   "id": "b37aa733-5129-4942-b845-ac01c474e63d",
   "metadata": {},
   "outputs": [],
   "source": [
    "\"\"\"\n",
    "Q.4 What are getter and setter in python? Create a class and create a getter and a setter method in this\n",
    "   class.\n",
    "   \n",
    "Ans.Getter and setter methods are used in object-oriented programming to control access to an object's attributes.\n",
    "    They allow us to retrieve (get) and modify (set) the values of private attributes of a class, providing an \n",
    "    interface to interact with the attributes indirectly.\n",
    "    \n",
    "\n",
    "\"\"\""
   ]
  },
  {
   "cell_type": "code",
   "execution_count": 1,
   "id": "9a0944e3-f130-43e7-b01a-3a9421105f26",
   "metadata": {},
   "outputs": [
    {
     "name": "stdout",
     "output_type": "stream",
     "text": [
      "10\n"
     ]
    }
   ],
   "source": [
    "class MyClass:\n",
    "    def __init__(self):\n",
    "        self._my_attribute = None  # Private attribute with a leading underscore\n",
    "\n",
    "    # Getter method using property decorator\n",
    "    @property\n",
    "    def my_attribute(self):\n",
    "        return self._my_attribute\n",
    "\n",
    "    # Setter method using <attribute_name>.setter decorator\n",
    "    @my_attribute.setter\n",
    "    def my_attribute(self, value):\n",
    "        if isinstance(value, int):\n",
    "            self._my_attribute = value\n",
    "        else:\n",
    "            raise ValueError(\"Attribute must be an integer.\")\n",
    "\n",
    "# Creating an object of MyClass\n",
    "obj = MyClass()\n",
    "\n",
    "# Using the setter method to set the attribute value\n",
    "obj.my_attribute = 10\n",
    "\n",
    "# Using the getter method to retrieve the attribute value\n",
    "print(obj.my_attribute) \n"
   ]
  },
  {
   "cell_type": "code",
   "execution_count": null,
   "id": "af67639d-50ec-4dcf-b6cd-995a07d717f4",
   "metadata": {},
   "outputs": [],
   "source": []
  }
 ],
 "metadata": {
  "kernelspec": {
   "display_name": "Python 3 (ipykernel)",
   "language": "python",
   "name": "python3"
  },
  "language_info": {
   "codemirror_mode": {
    "name": "ipython",
    "version": 3
   },
   "file_extension": ".py",
   "mimetype": "text/x-python",
   "name": "python",
   "nbconvert_exporter": "python",
   "pygments_lexer": "ipython3",
   "version": "3.10.8"
  }
 },
 "nbformat": 4,
 "nbformat_minor": 5
}
