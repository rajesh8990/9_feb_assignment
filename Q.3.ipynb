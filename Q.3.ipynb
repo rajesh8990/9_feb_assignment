{
 "cells": [
  {
   "cell_type": "code",
   "execution_count": null,
   "id": "fd512070-329f-46ab-b8ec-f64078df88f2",
   "metadata": {},
   "outputs": [],
   "source": [
    "\"\"\"\n",
    "Q.3 What is multiple inheritance? Write a python code to demonstrate multiple inheritance.\n",
    "\n",
    "Ans. Maltiple inheritance is a feture of object orinted program .Maltiple inheritence can Inherit like attribute \n",
    "     method more then one parent class\n",
    "\"\"\""
   ]
  },
  {
   "cell_type": "code",
   "execution_count": 53,
   "id": "b0f765a7-26ae-4cf6-88ca-a1c67231fdd3",
   "metadata": {},
   "outputs": [],
   "source": [
    "# Example maltiple inheritence\n",
    "class parent1:\n",
    "    def frist1 (self):\n",
    "        return \"This is my frist class\"\n",
    "    \n",
    "class parent2:\n",
    "    def frist2(self):\n",
    "        return \"My name is rajesh \"\n",
    "class child(parent1,parent2):\n",
    "    pass\n",
    "    "
   ]
  },
  {
   "cell_type": "code",
   "execution_count": 57,
   "id": "7c95a06d-a813-4fda-b9c4-f6478eabff78",
   "metadata": {},
   "outputs": [],
   "source": [
    "# creat object\n",
    "result=child()"
   ]
  },
  {
   "cell_type": "code",
   "execution_count": 59,
   "id": "f667ec5e-f481-415a-8f4e-6055ad2d86b9",
   "metadata": {},
   "outputs": [
    {
     "data": {
      "text/plain": [
       "'This is my frist class'"
      ]
     },
     "execution_count": 59,
     "metadata": {},
     "output_type": "execute_result"
    }
   ],
   "source": [
    "result.frist1()"
   ]
  },
  {
   "cell_type": "code",
   "execution_count": 60,
   "id": "ce8df038-d9c3-4447-9675-cd75de2686d5",
   "metadata": {},
   "outputs": [
    {
     "data": {
      "text/plain": [
       "'My name is rajesh '"
      ]
     },
     "execution_count": 60,
     "metadata": {},
     "output_type": "execute_result"
    }
   ],
   "source": [
    "result.frist2()"
   ]
  },
  {
   "cell_type": "code",
   "execution_count": null,
   "id": "74cc0d9a-1810-446f-8abc-db2b7a16cf99",
   "metadata": {},
   "outputs": [],
   "source": []
  }
 ],
 "metadata": {
  "kernelspec": {
   "display_name": "Python 3 (ipykernel)",
   "language": "python",
   "name": "python3"
  },
  "language_info": {
   "codemirror_mode": {
    "name": "ipython",
    "version": 3
   },
   "file_extension": ".py",
   "mimetype": "text/x-python",
   "name": "python",
   "nbconvert_exporter": "python",
   "pygments_lexer": "ipython3",
   "version": "3.10.8"
  }
 },
 "nbformat": 4,
 "nbformat_minor": 5
}
