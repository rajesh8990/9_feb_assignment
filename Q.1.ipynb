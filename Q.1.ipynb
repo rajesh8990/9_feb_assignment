{
 "cells": [
  {
   "cell_type": "code",
   "execution_count": null,
   "id": "0968072b-9363-44a0-933f-62057026e7b2",
   "metadata": {},
   "outputs": [],
   "source": [
    "\"\"\"\n",
    "Q.1, Create a vehicle class with an init method having instance variables as name_of_vehicle, max_speed\n",
    "and average_of_vehicle.\n",
    "\"\"\"\n"
   ]
  },
  {
   "cell_type": "code",
   "execution_count": 1,
   "id": "cdb22b44-4b65-400f-863e-95bc70ac79a8",
   "metadata": {},
   "outputs": [],
   "source": [
    "class vehicle():\n",
    "    def __init__(self,name_of_vehical,max_speed,average_of_vehicle):\n",
    "        self.name_of_vehicle=name_of_vehicle\n",
    "        self.max_speed=max_speed\n",
    "        self.average_of_vehicle=average_of_vehicle      "
   ]
  },
  {
   "cell_type": "code",
   "execution_count": 9,
   "id": "00f73438-1463-42dd-b037-1280f0b2b378",
   "metadata": {},
   "outputs": [],
   "source": [
    "# create objrct\n",
    "car=vehicle(\"Mahendra\",60,20)"
   ]
  },
  {
   "cell_type": "code",
   "execution_count": 11,
   "id": "c5947a78-2b20-495f-b712-1be5216a3727",
   "metadata": {},
   "outputs": [
    {
     "name": "stdout",
     "output_type": "stream",
     "text": [
      "Name : Mahendra\n",
      "Speed : 60\n",
      "Average : 20\n"
     ]
    }
   ],
   "source": [
    "print(\"Name :\",car.name_of_vehicle)\n",
    "print(\"Speed :\",car.max_speed)\n",
    "print(\"Average :\",car.average_of_vehicle)"
   ]
  },
  {
   "cell_type": "code",
   "execution_count": null,
   "id": "ffc05ca7-59be-4192-af91-b2265de212fb",
   "metadata": {},
   "outputs": [],
   "source": []
  }
 ],
 "metadata": {
  "kernelspec": {
   "display_name": "Python 3 (ipykernel)",
   "language": "python",
   "name": "python3"
  },
  "language_info": {
   "codemirror_mode": {
    "name": "ipython",
    "version": 3
   },
   "file_extension": ".py",
   "mimetype": "text/x-python",
   "name": "python",
   "nbconvert_exporter": "python",
   "pygments_lexer": "ipython3",
   "version": "3.10.8"
  }
 },
 "nbformat": 4,
 "nbformat_minor": 5
}
