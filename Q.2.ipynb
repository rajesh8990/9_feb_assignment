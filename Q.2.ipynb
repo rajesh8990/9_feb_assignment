{
 "cells": [
  {
   "cell_type": "code",
   "execution_count": null,
   "id": "2f8683ca-b11e-45ab-932c-1705e0ff9fc0",
   "metadata": {},
   "outputs": [],
   "source": [
    "\"\"\"\n",
    "Q.2 Create a child class car from the vehicle class created in Que 1, which will inherit the vehicle class.\n",
    "Create a method named seating_capacity which takes capacity as an argument and returns the name of\n",
    "the vehicle and its seating capacity.\n",
    "\"\"\""
   ]
  },
  {
   "cell_type": "code",
   "execution_count": 20,
   "id": "d7e826a5-a2ee-46a4-9f61-c49d51065430",
   "metadata": {},
   "outputs": [],
   "source": [
    "# create vehicale class\n",
    "class vehical():\n",
    "    def __init__(self,name_of_vehical,spped,Average):\n",
    "        self.name_of_vehical=name_of_vehical\n",
    "        self.spped=spped\n",
    "        self.Average=Average\n",
    "# creat a child class\n",
    "class car(vehical):\n",
    "    def __init__(self,name_of_vehical,spped,Average):\n",
    "        super().__init__(name_of_vehical,spped,Average)# super() calling the parent class vehical\n",
    "        \n",
    "    def setting_capicity(self,capicity):    \n",
    "        return f\"The vehicale name is  {self.name_of_vehical} and sitting capicity {capicity} people :\"\n",
    "    "
   ]
  },
  {
   "cell_type": "code",
   "execution_count": 21,
   "id": "c491a46f-db03-41ee-af24-9c33a8e70692",
   "metadata": {},
   "outputs": [],
   "source": [
    "# creat object\n",
    "result=car(\"Tvs\",50,15)"
   ]
  },
  {
   "cell_type": "code",
   "execution_count": 22,
   "id": "bae4256f-0caa-451c-9e8e-5256fedbc6d7",
   "metadata": {},
   "outputs": [
    {
     "data": {
      "text/plain": [
       "'The vehicale name is  Tvs and sitting capicity 56 people :'"
      ]
     },
     "execution_count": 22,
     "metadata": {},
     "output_type": "execute_result"
    }
   ],
   "source": [
    "result.setting_capicity(56)"
   ]
  },
  {
   "cell_type": "code",
   "execution_count": null,
   "id": "99b8155d-1568-4830-b9fc-4476f136d924",
   "metadata": {},
   "outputs": [],
   "source": []
  },
  {
   "cell_type": "code",
   "execution_count": null,
   "id": "5ef4f47b-bdca-42a3-baed-df3fc6671677",
   "metadata": {},
   "outputs": [],
   "source": []
  }
 ],
 "metadata": {
  "kernelspec": {
   "display_name": "Python 3 (ipykernel)",
   "language": "python",
   "name": "python3"
  },
  "language_info": {
   "codemirror_mode": {
    "name": "ipython",
    "version": 3
   },
   "file_extension": ".py",
   "mimetype": "text/x-python",
   "name": "python",
   "nbconvert_exporter": "python",
   "pygments_lexer": "ipython3",
   "version": "3.10.8"
  }
 },
 "nbformat": 4,
 "nbformat_minor": 5
}
